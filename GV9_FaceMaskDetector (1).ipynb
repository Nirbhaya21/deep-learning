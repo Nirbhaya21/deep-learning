{
  "nbformat": 4,
  "nbformat_minor": 0,
  "metadata": {
    "colab": {
      "provenance": []
    },
    "kernelspec": {
      "name": "python3",
      "display_name": "Python 3"
    },
    "language_info": {
      "name": "python"
    }
  },
  "cells": [
    {
      "cell_type": "code",
      "execution_count": null,
      "metadata": {
        "colab": {
          "base_uri": "https://localhost:8080/"
        },
        "id": "6WopAescjuuU",
        "outputId": "ccef8b5c-9576-47f0-fb8a-c1729e0854c5"
      },
      "outputs": [
        {
          "output_type": "stream",
          "name": "stdout",
          "text": [
            "Cloning into 'FaceMaskDetector'...\n",
            "remote: Enumerating objects: 1543, done.\u001b[K\n",
            "remote: Counting objects: 100% (89/89), done.\u001b[K\n",
            "remote: Compressing objects: 100% (58/58), done.\u001b[K\n",
            "remote: Total 1543 (delta 44), reused 69 (delta 29), pack-reused 1454\u001b[K\n",
            "Receiving objects: 100% (1543/1543), 84.40 MiB | 17.36 MiB/s, done.\n",
            "Resolving deltas: 100% (61/61), done.\n"
          ]
        }
      ],
      "source": [
        "!git clone https://github.com/Karan-Malik/FaceMaskDetector"
      ]
    },
    {
      "cell_type": "code",
      "source": [
        "import numpy as np\n",
        "import keras\n",
        "import keras.backend as k\n",
        "from keras.layers import Conv2D,MaxPooling2D,SpatialDropout2D,Flatten,Dropout,Dense\n",
        "from keras.models import Sequential,load_model\n",
        "#from keras.optimizers import adam\n",
        "from keras.preprocessing import image\n",
        "import cv2\n",
        "import datetime"
      ],
      "metadata": {
        "id": "d9aYh4hVkBpT"
      },
      "execution_count": null,
      "outputs": []
    },
    {
      "cell_type": "code",
      "metadata": {
        "id": "sCV30xyVhFbE"
      },
      "source": [
        "import tensorflow as tf\n",
        "from keras.preprocessing.image import ImageDataGenerator"
      ],
      "execution_count": null,
      "outputs": []
    },
    {
      "cell_type": "code",
      "source": [
        "# BUILDING MODEL TO CLASSIFY BETWEEN MASK AND NO MASK\n",
        "\n",
        "model=Sequential()\n",
        "model.add(Conv2D(32,(3,3),activation='relu',input_shape=(150,150,3)))\n",
        "model.add(MaxPooling2D() )\n",
        "model.add(Conv2D(32,(3,3),activation='relu'))\n",
        "model.add(MaxPooling2D() )\n",
        "model.add(Conv2D(32,(3,3),activation='relu'))\n",
        "model.add(MaxPooling2D() )\n",
        "model.add(Flatten())\n",
        "model.add(Dense(100,activation='relu'))\n",
        "model.add(Dense(1,activation='sigmoid'))"
      ],
      "metadata": {
        "id": "SDoF1bsmkXjD"
      },
      "execution_count": null,
      "outputs": []
    },
    {
      "cell_type": "code",
      "source": [
        "model.compile(optimizer='adam',loss='binary_crossentropy',metrics=['accuracy'])"
      ],
      "metadata": {
        "id": "MW3IcP-CkLrE"
      },
      "execution_count": null,
      "outputs": []
    },
    {
      "cell_type": "code",
      "source": [
        "\n",
        "train_datagen = ImageDataGenerator(\n",
        "        rescale=1./255,\n",
        "        shear_range=0.2,\n",
        "        zoom_range=0.2,\n",
        "        horizontal_flip=True)\n"
      ],
      "metadata": {
        "id": "atqR4Dr5kv3_"
      },
      "execution_count": null,
      "outputs": []
    },
    {
      "cell_type": "code",
      "source": [
        "test_datagen = ImageDataGenerator(rescale=1./255)"
      ],
      "metadata": {
        "id": "ucQf481sk4Zf"
      },
      "execution_count": null,
      "outputs": []
    },
    {
      "cell_type": "code",
      "source": [
        "training_set = train_datagen.flow_from_directory(\n",
        "        '/content/FaceMaskDetector/train',\n",
        "        target_size=(150,150),\n",
        "        batch_size=16 ,\n",
        "        class_mode='binary')"
      ],
      "metadata": {
        "colab": {
          "base_uri": "https://localhost:8080/"
        },
        "id": "df0XCuH8k5-C",
        "outputId": "434747d9-7b64-400e-bbfc-57b8d37dbd36"
      },
      "execution_count": null,
      "outputs": [
        {
          "output_type": "stream",
          "name": "stdout",
          "text": [
            "Found 1314 images belonging to 2 classes.\n"
          ]
        }
      ]
    },
    {
      "cell_type": "code",
      "source": [
        "test_set = test_datagen.flow_from_directory(\n",
        "        '/content/FaceMaskDetector/test',\n",
        "        target_size=(150,150),\n",
        "        batch_size=16,\n",
        "        class_mode='binary')"
      ],
      "metadata": {
        "colab": {
          "base_uri": "https://localhost:8080/"
        },
        "id": "nyRN_madla8h",
        "outputId": "42995956-104a-47aa-bb45-d8de4e7e54be"
      },
      "execution_count": null,
      "outputs": [
        {
          "output_type": "stream",
          "name": "stdout",
          "text": [
            "Found 194 images belonging to 2 classes.\n"
          ]
        }
      ]
    },
    {
      "cell_type": "code",
      "source": [
        "model_saved=model.fit_generator(\n",
        "        training_set,\n",
        "        epochs=20,\n",
        "        validation_data=test_set,\n",
        "\n",
        "        )"
      ],
      "metadata": {
        "colab": {
          "base_uri": "https://localhost:8080/"
        },
        "id": "5wE-pq9WloN1",
        "outputId": "0c100aa2-a0b4-4b92-e66e-0ee5c32ba34f"
      },
      "execution_count": null,
      "outputs": [
        {
          "output_type": "stream",
          "name": "stderr",
          "text": [
            "/usr/local/lib/python3.7/dist-packages/ipykernel_launcher.py:4: UserWarning: `Model.fit_generator` is deprecated and will be removed in a future version. Please use `Model.fit`, which supports generators.\n",
            "  after removing the cwd from sys.path.\n"
          ]
        },
        {
          "output_type": "stream",
          "name": "stdout",
          "text": [
            "Epoch 1/20\n",
            "83/83 [==============================] - 54s 651ms/step - loss: 0.0485 - accuracy: 0.9833 - val_loss: 0.0649 - val_accuracy: 0.9742\n",
            "Epoch 2/20\n",
            "83/83 [==============================] - 54s 655ms/step - loss: 0.0281 - accuracy: 0.9893 - val_loss: 0.2650 - val_accuracy: 0.9278\n",
            "Epoch 3/20\n",
            "83/83 [==============================] - 51s 616ms/step - loss: 0.0619 - accuracy: 0.9764 - val_loss: 0.0896 - val_accuracy: 0.9794\n",
            "Epoch 4/20\n",
            "83/83 [==============================] - 51s 613ms/step - loss: 0.0434 - accuracy: 0.9833 - val_loss: 0.0769 - val_accuracy: 0.9794\n",
            "Epoch 5/20\n",
            "83/83 [==============================] - 59s 706ms/step - loss: 0.0276 - accuracy: 0.9893 - val_loss: 0.0754 - val_accuracy: 0.9691\n",
            "Epoch 6/20\n",
            "83/83 [==============================] - 54s 652ms/step - loss: 0.0599 - accuracy: 0.9802 - val_loss: 0.1109 - val_accuracy: 0.9742\n",
            "Epoch 7/20\n",
            "83/83 [==============================] - 56s 664ms/step - loss: 0.0367 - accuracy: 0.9848 - val_loss: 0.0910 - val_accuracy: 0.9536\n",
            "Epoch 8/20\n",
            "83/83 [==============================] - 51s 615ms/step - loss: 0.0192 - accuracy: 0.9947 - val_loss: 0.1252 - val_accuracy: 0.9588\n",
            "Epoch 9/20\n",
            "83/83 [==============================] - 51s 617ms/step - loss: 0.0292 - accuracy: 0.9901 - val_loss: 0.1353 - val_accuracy: 0.9639\n",
            "Epoch 10/20\n",
            "83/83 [==============================] - 51s 616ms/step - loss: 0.0183 - accuracy: 0.9947 - val_loss: 0.1073 - val_accuracy: 0.9691\n",
            "Epoch 11/20\n",
            "83/83 [==============================] - 54s 651ms/step - loss: 0.0271 - accuracy: 0.9909 - val_loss: 0.0717 - val_accuracy: 0.9794\n",
            "Epoch 12/20\n",
            "83/83 [==============================] - 51s 614ms/step - loss: 0.0191 - accuracy: 0.9939 - val_loss: 0.0570 - val_accuracy: 0.9845\n",
            "Epoch 13/20\n",
            "83/83 [==============================] - 51s 611ms/step - loss: 0.0483 - accuracy: 0.9817 - val_loss: 0.0774 - val_accuracy: 0.9845\n",
            "Epoch 14/20\n",
            "83/83 [==============================] - 51s 609ms/step - loss: 0.0324 - accuracy: 0.9901 - val_loss: 0.0583 - val_accuracy: 0.9897\n",
            "Epoch 15/20\n",
            "83/83 [==============================] - 53s 640ms/step - loss: 0.0157 - accuracy: 0.9947 - val_loss: 0.0922 - val_accuracy: 0.9794\n",
            "Epoch 16/20\n",
            "83/83 [==============================] - 53s 640ms/step - loss: 0.0150 - accuracy: 0.9924 - val_loss: 0.0938 - val_accuracy: 0.9845\n",
            "Epoch 17/20\n",
            "83/83 [==============================] - 50s 605ms/step - loss: 0.0188 - accuracy: 0.9947 - val_loss: 0.1290 - val_accuracy: 0.9742\n",
            "Epoch 18/20\n",
            "83/83 [==============================] - 50s 602ms/step - loss: 0.0062 - accuracy: 0.9985 - val_loss: 0.1434 - val_accuracy: 0.9742\n",
            "Epoch 19/20\n",
            "83/83 [==============================] - 50s 604ms/step - loss: 0.0322 - accuracy: 0.9901 - val_loss: 0.1239 - val_accuracy: 0.9845\n",
            "Epoch 20/20\n",
            "83/83 [==============================] - 53s 635ms/step - loss: 0.0134 - accuracy: 0.9962 - val_loss: 0.1273 - val_accuracy: 0.9691\n"
          ]
        }
      ]
    },
    {
      "cell_type": "code",
      "source": [
        "model.save('mymodel.h5',model_saved)"
      ],
      "metadata": {
        "id": "kYsk5T7blzql"
      },
      "execution_count": null,
      "outputs": []
    },
    {
      "cell_type": "code",
      "source": [
        "mymodel=load_model('mymodel.h5')"
      ],
      "metadata": {
        "id": "QwD-njQRnUdP"
      },
      "execution_count": null,
      "outputs": []
    },
    {
      "cell_type": "code",
      "source": [
        "import cv2\n",
        "import matplotlib.pyplot as plt"
      ],
      "metadata": {
        "id": "ZpJ0VZBAtXsY"
      },
      "execution_count": null,
      "outputs": []
    },
    {
      "cell_type": "code",
      "source": [
        "test_image=tf.keras.utils.load_img('/content/With mask.jpg',\n",
        "                          target_size=(150,150,3))\n",
        "test_image\n",
        "#test_image=image.img_to_array(test_image)\n",
        "test_image=np.expand_dims(test_image,axis=0)\n",
        "if(mymodel.predict(test_image)[0][0] == 1):\n",
        "  print(\"With Mask\")\n",
        "else:\n",
        "  print(\"Without Mask\")"
      ],
      "metadata": {
        "colab": {
          "base_uri": "https://localhost:8080/"
        },
        "id": "3GRhkuzYnVEG",
        "outputId": "34fbb1b3-ead8-40a8-ef32-f4b0038d1a6f"
      },
      "execution_count": null,
      "outputs": [
        {
          "output_type": "stream",
          "name": "stdout",
          "text": [
            "1/1 [==============================] - 0s 54ms/step\n",
            "Without Mask\n"
          ]
        }
      ]
    },
    {
      "cell_type": "code",
      "source": [
        "im = cv2.imread('/content/withMask.jpeg')\n",
        "im_resized = cv2.resize(im, (224, 224), interpolation=cv2.INTER_LINEAR)\n",
        "\n",
        "plt.imshow(cv2.cvtColor(im_resized, cv2.COLOR_BGR2RGB))\n",
        "plt.show()"
      ],
      "metadata": {
        "id": "IoCswRmL0ZE0",
        "outputId": "f15ac51a-38a2-4604-a54a-16f7604dab0d",
        "colab": {
          "base_uri": "https://localhost:8080/",
          "height": 235
        }
      },
      "execution_count": null,
      "outputs": [
        {
          "output_type": "error",
          "ename": "error",
          "evalue": "ignored",
          "traceback": [
            "\u001b[0;31m---------------------------------------------------------------------------\u001b[0m",
            "\u001b[0;31merror\u001b[0m                                     Traceback (most recent call last)",
            "\u001b[0;32m<ipython-input-28-002e29777d2d>\u001b[0m in \u001b[0;36m<module>\u001b[0;34m\u001b[0m\n\u001b[1;32m      1\u001b[0m \u001b[0mim\u001b[0m \u001b[0;34m=\u001b[0m \u001b[0mcv2\u001b[0m\u001b[0;34m.\u001b[0m\u001b[0mimread\u001b[0m\u001b[0;34m(\u001b[0m\u001b[0;34m'/content/withMask.jpeg'\u001b[0m\u001b[0;34m)\u001b[0m\u001b[0;34m\u001b[0m\u001b[0;34m\u001b[0m\u001b[0m\n\u001b[0;32m----> 2\u001b[0;31m \u001b[0mim_resized\u001b[0m \u001b[0;34m=\u001b[0m \u001b[0mcv2\u001b[0m\u001b[0;34m.\u001b[0m\u001b[0mresize\u001b[0m\u001b[0;34m(\u001b[0m\u001b[0mim\u001b[0m\u001b[0;34m,\u001b[0m \u001b[0;34m(\u001b[0m\u001b[0;36m224\u001b[0m\u001b[0;34m,\u001b[0m \u001b[0;36m224\u001b[0m\u001b[0;34m)\u001b[0m\u001b[0;34m,\u001b[0m \u001b[0minterpolation\u001b[0m\u001b[0;34m=\u001b[0m\u001b[0mcv2\u001b[0m\u001b[0;34m.\u001b[0m\u001b[0mINTER_LINEAR\u001b[0m\u001b[0;34m)\u001b[0m\u001b[0;34m\u001b[0m\u001b[0;34m\u001b[0m\u001b[0m\n\u001b[0m\u001b[1;32m      3\u001b[0m \u001b[0;34m\u001b[0m\u001b[0m\n\u001b[1;32m      4\u001b[0m \u001b[0mplt\u001b[0m\u001b[0;34m.\u001b[0m\u001b[0mimshow\u001b[0m\u001b[0;34m(\u001b[0m\u001b[0mcv2\u001b[0m\u001b[0;34m.\u001b[0m\u001b[0mcvtColor\u001b[0m\u001b[0;34m(\u001b[0m\u001b[0mim_resized\u001b[0m\u001b[0;34m,\u001b[0m \u001b[0mcv2\u001b[0m\u001b[0;34m.\u001b[0m\u001b[0mCOLOR_BGR2RGB\u001b[0m\u001b[0;34m)\u001b[0m\u001b[0;34m)\u001b[0m\u001b[0;34m\u001b[0m\u001b[0;34m\u001b[0m\u001b[0m\n\u001b[1;32m      5\u001b[0m \u001b[0mplt\u001b[0m\u001b[0;34m.\u001b[0m\u001b[0mshow\u001b[0m\u001b[0;34m(\u001b[0m\u001b[0;34m)\u001b[0m\u001b[0;34m\u001b[0m\u001b[0;34m\u001b[0m\u001b[0m\n",
            "\u001b[0;31merror\u001b[0m: OpenCV(4.6.0) /io/opencv/modules/imgproc/src/resize.cpp:4052: error: (-215:Assertion failed) !ssize.empty() in function 'resize'\n"
          ]
        }
      ]
    },
    {
      "cell_type": "code",
      "source": [
        "test_image=image.load_img('/content/WithoutMask.jpeg',\n",
        "                          target_size=(150,150,3))\n",
        "test_image\n",
        "test_image=image.img_to_array(test_image)\n",
        "test_image=np.expand_dims(test_image,axis=0)\n",
        "if(mymodel.predict(test_image)[0][0] == 0):\n",
        "  print(\"With Mask\")\n",
        "else:\n",
        "  print(\"Without Mask\")"
      ],
      "metadata": {
        "id": "rJv_U2-Cn4zy",
        "outputId": "26298bda-711f-484b-e5e6-d7e431eade89",
        "colab": {
          "base_uri": "https://localhost:8080/",
          "height": 235
        }
      },
      "execution_count": null,
      "outputs": [
        {
          "output_type": "error",
          "ename": "AttributeError",
          "evalue": "ignored",
          "traceback": [
            "\u001b[0;31m---------------------------------------------------------------------------\u001b[0m",
            "\u001b[0;31mAttributeError\u001b[0m                            Traceback (most recent call last)",
            "\u001b[0;32m<ipython-input-26-e0b5a138098f>\u001b[0m in \u001b[0;36m<module>\u001b[0;34m\u001b[0m\n\u001b[0;32m----> 1\u001b[0;31m test_image=image.load_img('/content/WithoutMask.jpeg',\n\u001b[0m\u001b[1;32m      2\u001b[0m                           target_size=(150,150,3))\n\u001b[1;32m      3\u001b[0m \u001b[0mtest_image\u001b[0m\u001b[0;34m\u001b[0m\u001b[0;34m\u001b[0m\u001b[0m\n\u001b[1;32m      4\u001b[0m \u001b[0mtest_image\u001b[0m\u001b[0;34m=\u001b[0m\u001b[0mimage\u001b[0m\u001b[0;34m.\u001b[0m\u001b[0mimg_to_array\u001b[0m\u001b[0;34m(\u001b[0m\u001b[0mtest_image\u001b[0m\u001b[0;34m)\u001b[0m\u001b[0;34m\u001b[0m\u001b[0;34m\u001b[0m\u001b[0m\n\u001b[1;32m      5\u001b[0m \u001b[0mtest_image\u001b[0m\u001b[0;34m=\u001b[0m\u001b[0mnp\u001b[0m\u001b[0;34m.\u001b[0m\u001b[0mexpand_dims\u001b[0m\u001b[0;34m(\u001b[0m\u001b[0mtest_image\u001b[0m\u001b[0;34m,\u001b[0m\u001b[0maxis\u001b[0m\u001b[0;34m=\u001b[0m\u001b[0;36m0\u001b[0m\u001b[0;34m)\u001b[0m\u001b[0;34m\u001b[0m\u001b[0;34m\u001b[0m\u001b[0m\n",
            "\u001b[0;31mAttributeError\u001b[0m: module 'keras.preprocessing.image' has no attribute 'load_img'"
          ]
        }
      ]
    },
    {
      "cell_type": "code",
      "source": [
        "im = cv2.imread('/content/WithoutMask.jpeg')\n",
        "im_resized = cv2.resize(im, (224, 224), interpolation=cv2.INTER_LINEAR)\n",
        "\n",
        "plt.imshow(cv2.cvtColor(im_resized, cv2.COLOR_BGR2RGB))\n",
        "plt.show()"
      ],
      "metadata": {
        "id": "jRDNmsVG0Vet"
      },
      "execution_count": null,
      "outputs": []
    },
    {
      "cell_type": "code",
      "source": [
        "# Open the device at the ID 0\n",
        "#cap = cv2.VideoCapture(1)\n",
        "# Check whether user selected camera is opened successfully.\n",
        "#if not (cap.isOpened()):\n",
        "  #print(\"Could not open video device\")"
      ],
      "metadata": {
        "id": "S2_EQzsdpP1Y"
      },
      "execution_count": null,
      "outputs": []
    },
    {
      "cell_type": "markdown",
      "source": [
        "cap=cv2.VideoCapture(0)\n",
        "face_cascade=cv2.CascadeClassifier('haarcascade_frontalface_default.xml')\n",
        "\n",
        "while cap.isOpened():\n",
        "    _,img=cap.read()\n",
        "    face=face_cascade.detectMultiScale(img,scaleFactor=1.1,minNeighbors=4)\n",
        "    for(x,y,w,h) in face:\n",
        "        face_img = img[y:y+h, x:x+w]\n",
        "        cv2.imwrite('temp.jpg',face_img)\n",
        "        test_image=image.load_img('temp.jpg',target_size=(150,150,3))\n",
        "        test_image=image.img_to_array(test_image)\n",
        "        test_image=np.expand_dims(test_image,axis=0)\n",
        "        pred=mymodel.predict(test_image)[0][0]\n",
        "        if pred==1:\n",
        "            cv2.rectangle(img,(x,y),(x+w,y+h),(0,0,255),3)\n",
        "            cv2.putText(img,'NO MASK',((x+w)//2,y+h+20),cv2.FONT_HERSHEY_SIMPLEX,1,(0,0,255),3)\n",
        "        else:\n",
        "            cv2.rectangle(img,(x,y),(x+w,y+h),(0,255,0),3)\n",
        "            cv2.putText(img,'MASK',((x+w)//2,y+h+20),cv2.FONT_HERSHEY_SIMPLEX,1,(0,255,0),3)\n",
        "        datet=str(datetime.datetime.now())\n",
        "        cv2.putText(img,datet,(400,450),cv2.FONT_HERSHEY_SIMPLEX,0.5,(255,255,255),1)\n",
        "          \n",
        "    cv2.imshow('img',img)\n",
        "    \n",
        "    if cv2.waitKey(1)==ord('q'):\n",
        "        break\n",
        "    \n",
        "cap.release()\n",
        "cv2.destroyAllWindows()"
      ],
      "metadata": {
        "id": "GP81vOSVz-hs"
      }
    }
  ]
}